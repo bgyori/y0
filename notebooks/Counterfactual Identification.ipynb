{
 "cells": [
  {
   "cell_type": "markdown",
   "metadata": {
    "toc": true
   },
   "source": [
    "<h1>Table of Contents<span class=\"tocSkip\"></span></h1>\n",
    "<div class=\"toc\"><ul class=\"toc-item\"><li><span><a href=\"#Make-counterfactual-graph\" data-toc-modified-id=\"Make-counterfactual-graph-1\"><span class=\"toc-item-num\">1&nbsp;&nbsp;</span>Make counterfactual graph</a></span></li><li><span><a href=\"#Walkthrough-of-make-counterfactual-graph\" data-toc-modified-id=\"Walkthrough-of-make-counterfactual-graph-2\"><span class=\"toc-item-num\">2&nbsp;&nbsp;</span>Walkthrough of make counterfactual graph</a></span></li><li><span><a href=\"#ID*-algorithm\" data-toc-modified-id=\"ID*-algorithm-3\"><span class=\"toc-item-num\">3&nbsp;&nbsp;</span>ID* algorithm</a></span></li><li><span><a href=\"#IDC*-algorithm\" data-toc-modified-id=\"IDC*-algorithm-4\"><span class=\"toc-item-num\">4&nbsp;&nbsp;</span>IDC* algorithm</a></span></li><li><span><a href=\"#Walkthrough-of-IDC*\" data-toc-modified-id=\"Walkthrough-of-IDC*-5\"><span class=\"toc-item-num\">5&nbsp;&nbsp;</span>Walkthrough of IDC*</a></span><ul class=\"toc-item\"><li><span><a href=\"#Line-2-of-IDC*\" data-toc-modified-id=\"Line-2-of-IDC*-5.1\"><span class=\"toc-item-num\">5.1&nbsp;&nbsp;</span>Line 2 of <strong>IDC*</strong></a></span></li><li><span><a href=\"#Line-4-of-IDC*\" data-toc-modified-id=\"Line-4-of-IDC*-5.2\"><span class=\"toc-item-num\">5.2&nbsp;&nbsp;</span>Line 4 of <strong>IDC*</strong></a></span></li></ul></li><li><span><a href=\"#Line-6\" data-toc-modified-id=\"Line-6-6\"><span class=\"toc-item-num\">6&nbsp;&nbsp;</span>Line 6</a></span><ul class=\"toc-item\"><li><span><a href=\"#Line-9\" data-toc-modified-id=\"Line-9-6.1\"><span class=\"toc-item-num\">6.1&nbsp;&nbsp;</span>Line 9</a></span></li></ul></li></ul></div>"
   ]
  },
  {
   "cell_type": "code",
   "execution_count": 1,
   "metadata": {},
   "outputs": [
    {
     "data": {
      "application/javascript": [
       "\n",
       "            setTimeout(function() {\n",
       "                var nbb_cell_id = 1;\n",
       "                var nbb_unformatted_code = \"%load_ext nb_black\";\n",
       "                var nbb_formatted_code = \"%load_ext nb_black\";\n",
       "                var nbb_cells = Jupyter.notebook.get_cells();\n",
       "                for (var i = 0; i < nbb_cells.length; ++i) {\n",
       "                    if (nbb_cells[i].input_prompt_number == nbb_cell_id) {\n",
       "                        if (nbb_cells[i].get_text() == nbb_unformatted_code) {\n",
       "                             nbb_cells[i].set_text(nbb_formatted_code);\n",
       "                        }\n",
       "                        break;\n",
       "                    }\n",
       "                }\n",
       "            }, 500);\n",
       "            "
      ],
      "text/plain": [
       "<IPython.core.display.Javascript object>"
      ]
     },
     "metadata": {},
     "output_type": "display_data"
    }
   ],
   "source": [
    "%load_ext nb_black"
   ]
  },
  {
   "cell_type": "markdown",
   "metadata": {},
   "source": [
    "# Make counterfactual graph\n",
    "\n",
    "$$\\newcommand\\ci{\\perp\\!\\!\\!\\perp}$$\n",
    "$$\\newcommand{\\ubar}[1]{\\underset{\\bar{}}{#1}}\n",
    "\\newcommand{\\obar}[1]{\\overset{\\bar{}}{#1}}$$\n",
    "\n",
    "\n",
    "\\textbf{Lemma 24} Let $M$ be a model inducing $G$ containing variables $\\alpha,\\beta$ with the following properties: \n",
    "* $\\alpha$ and $\\beta$ have the same domain of values.\n",
    "*  There is a bijection $f$ from $Pa(\\alpha)$ to $Pa(\\beta)$ such that a parent $\\gamma$ and $f(\\gamma)$ have the same domain of values. \n",
    "* The functional mechanisms of $\\alpha$ and $\\beta$ are the same (except whenever the function for $\\alpha$ uses the parent $\\gamma$, the corresponding function for $\\beta$ uses $f (\\gamma)$). \n",
    "\n",
    "Assume an observable variable set $\\mathbf Z$ was observed to attain values $\\mathbf{z}$ in $M_\\mathbf{x}$, the submodel obtained from $M$ by forcing another observable variable set $\\mathbf X$ to attain values $\\mathbf x$. Assume further that for each $\\gamma\\in Pa(\\alpha)$, either $f (\\gamma) = \\gamma$, or $\\gamma$ and $f (\\gamma)$ attain the same values (whether by observation or intervention). Then $\\alpha$ and $\\beta$ are the same random variable in $M_{\\mathbf x}$ with observations $\\mathbf z$.\n",
    "\n",
    "\\textbf{Lemma 25}. Let $M_\\mathbf{x}$ be a submodel derived from $M$ with set $\\mathbf Z$ observed to attain values $\\mathbf z$, such that Lemma 24 holds for $\\alpha, \\beta$. Let $M'$ be a causal model obtained from $M$ by merging $\\alpha, \\beta$ into a new node $\\omega$, which inherits all parents and the functional mechanism of $\\alpha$. All children of $\\alpha,\\beta$ in $M'$ become children of $\\omega$. Then $M_\\mathbf{x}$,  $M'_\\mathbf{x}$ agree on any distribution consistent with $\\mathbf{z}$ being observed.\n",
    "\n",
    "\n",
    "\n",
    "$\\text{function }\\mathbf{ make-cg}\\left(G, \\gamma\\right) \\\\ \\text{INPUT: } \\text{ $G$ a causal diagram, $\\gamma$ a conjunction of counterfactual events}. \\\\  \\text{OUTPUT:  A counterfactual graph $G_\\gamma$ and either a set of events $\\gamma'$ such that $P(\\gamma') = P(\\gamma)$ or $\\mathbf{Inconsistent}$} $\n",
    "\n",
    "* Construct a submodel $G_{\\mathbf{X}_i}$ for each action $do(\\mathbf{x}_i)$ mentioned in $\\gamma$. Construct the parallel worlds graph $G'$ by having all such graphs share their corresponding $U$ nodes.\n",
    "\n",
    "* Let $\\pi$ be a topological ordering of nodes in $G'$, let $\\gamma':=\\gamma.$\n",
    "* Apply Lemmas 24 and 25, in order $\\pi$ to each observable node pair $\\alpha, \\beta$ derived from the same variable in $G$. For each $\\alpha, \\beta$ that are the same, do:\n",
    "    * Let $G'$ be modified as specified in Lemma 25\n",
    "    * Modify $\\gamma'$ by renaming all occurrences of $\\beta$ to $\\alpha$.\n",
    "    * If $\\mathbf{val}(\\alpha)\\neq \\mathbf{val}(\\beta)$, return $G', \\mathbf{Inconsistent}$.\n",
    "* $\\texttt{return}$ $(G'_{An(\\gamma')}, \\gamma')$, where $An(\\gamma')$ is the set of nodes in $G'$ ancestral to nodes corresponding to variables mentioned in $\\gamma'$."
   ]
  },
  {
   "cell_type": "markdown",
   "metadata": {},
   "source": [
    "# Walkthrough of make counterfactual graph"
   ]
  },
  {
   "cell_type": "code",
   "execution_count": 2,
   "metadata": {},
   "outputs": [
    {
     "data": {
      "application/javascript": [
       "\n",
       "            setTimeout(function() {\n",
       "                var nbb_cell_id = 2;\n",
       "                var nbb_unformatted_code = \"from y0.algorithm.identify.id_star import (\\n    id_star,\\n    make_parallel_worlds_graph,\\n    get_worlds,\\n    make_world_graph,\\n    make_counterfactual_graph,\\n    lemma_24,\\n    lemma_25,\\n    has_same_parents,\\n    has_same_function,\\n    id_star_line_9,\\n)\\nfrom y0.graph import NxMixedGraph\\nfrom y0.examples import (\\n    figure_9a,\\n    figure_9b,\\n    figure_9c,\\n    figure_9d,\\n    figure_11a,\\n    figure_11b,\\n    figure_11c,\\n)\\nfrom y0.dsl import (\\n    X,\\n    D,\\n    W,\\n    P,\\n    Y,\\n    Z,\\n    CounterfactualVariable,\\n    _get_treatment_variables,\\n    Variable,\\n)\\nimport matplotlib.pyplot as plt\";\n",
       "                var nbb_formatted_code = \"from y0.algorithm.identify.id_star import (\\n    id_star,\\n    make_parallel_worlds_graph,\\n    get_worlds,\\n    make_world_graph,\\n    make_counterfactual_graph,\\n    lemma_24,\\n    lemma_25,\\n    has_same_parents,\\n    has_same_function,\\n    id_star_line_9,\\n)\\nfrom y0.graph import NxMixedGraph\\nfrom y0.examples import (\\n    figure_9a,\\n    figure_9b,\\n    figure_9c,\\n    figure_9d,\\n    figure_11a,\\n    figure_11b,\\n    figure_11c,\\n)\\nfrom y0.dsl import (\\n    X,\\n    D,\\n    W,\\n    P,\\n    Y,\\n    Z,\\n    CounterfactualVariable,\\n    _get_treatment_variables,\\n    Variable,\\n)\\nimport matplotlib.pyplot as plt\";\n",
       "                var nbb_cells = Jupyter.notebook.get_cells();\n",
       "                for (var i = 0; i < nbb_cells.length; ++i) {\n",
       "                    if (nbb_cells[i].input_prompt_number == nbb_cell_id) {\n",
       "                        if (nbb_cells[i].get_text() == nbb_unformatted_code) {\n",
       "                             nbb_cells[i].set_text(nbb_formatted_code);\n",
       "                        }\n",
       "                        break;\n",
       "                    }\n",
       "                }\n",
       "            }, 500);\n",
       "            "
      ],
      "text/plain": [
       "<IPython.core.display.Javascript object>"
      ]
     },
     "metadata": {},
     "output_type": "display_data"
    }
   ],
   "source": [
    "from y0.algorithm.identify.id_star import (\n",
    "    id_star,\n",
    "    make_parallel_worlds_graph,\n",
    "    get_worlds,\n",
    "    make_world_graph,\n",
    "    make_counterfactual_graph,\n",
    "    lemma_24,\n",
    "    lemma_25,\n",
    "    has_same_parents,\n",
    "    has_same_function,\n",
    "    id_star_line_9,\n",
    ")\n",
    "from y0.graph import NxMixedGraph\n",
    "from y0.examples import (\n",
    "    figure_9a,\n",
    "    figure_9b,\n",
    "    figure_9c,\n",
    "    figure_9d,\n",
    "    figure_11a,\n",
    "    figure_11b,\n",
    "    figure_11c,\n",
    ")\n",
    "from y0.dsl import (\n",
    "    X,\n",
    "    D,\n",
    "    W,\n",
    "    P,\n",
    "    Y,\n",
    "    Z,\n",
    "    CounterfactualVariable,\n",
    "    _get_treatment_variables,\n",
    "    Variable,\n",
    ")\n",
    "import matplotlib.pyplot as plt"
   ]
  },
  {
   "cell_type": "code",
   "execution_count": 3,
   "metadata": {},
   "outputs": [
    {
     "data": {
      "image/png": "[encoded data removed]",
      "text/plain": [
       "<Figure size 432x288 with 1 Axes>"
      ]
     },
     "metadata": {},
     "output_type": "display_data"
    },
    {
     "data": {
      "application/javascript": [
       "\n",
       "            setTimeout(function() {\n",
       "                var nbb_cell_id = 3;\n",
       "                var nbb_unformatted_code = \"figure_9a.graph.draw()\";\n",
       "                var nbb_formatted_code = \"figure_9a.graph.draw()\";\n",
       "                var nbb_cells = Jupyter.notebook.get_cells();\n",
       "                for (var i = 0; i < nbb_cells.length; ++i) {\n",
       "                    if (nbb_cells[i].input_prompt_number == nbb_cell_id) {\n",
       "                        if (nbb_cells[i].get_text() == nbb_unformatted_code) {\n",
       "                             nbb_cells[i].set_text(nbb_formatted_code);\n",
       "                        }\n",
       "                        break;\n",
       "                    }\n",
       "                }\n",
       "            }, 500);\n",
       "            "
      ],
      "text/plain": [
       "<IPython.core.display.Javascript object>"
      ]
     },
     "metadata": {},
     "output_type": "display_data"
    }
   ],
   "source": [
    "figure_9a.graph.draw()"
   ]
  },
  {
   "cell_type": "code",
   "execution_count": 4,
   "metadata": {},
   "outputs": [
    {
     "data": {
      "image/png": "[encoded data removed]",
      "text/plain": [
       "<Figure size 432x288 with 1 Axes>"
      ]
     },
     "metadata": {},
     "output_type": "display_data"
    },
    {
     "data": {
      "application/javascript": [
       "\n",
       "            setTimeout(function() {\n",
       "                var nbb_cell_id = 4;\n",
       "                var nbb_unformatted_code = \"figure_9b.graph.draw()\";\n",
       "                var nbb_formatted_code = \"figure_9b.graph.draw()\";\n",
       "                var nbb_cells = Jupyter.notebook.get_cells();\n",
       "                for (var i = 0; i < nbb_cells.length; ++i) {\n",
       "                    if (nbb_cells[i].input_prompt_number == nbb_cell_id) {\n",
       "                        if (nbb_cells[i].get_text() == nbb_unformatted_code) {\n",
       "                             nbb_cells[i].set_text(nbb_formatted_code);\n",
       "                        }\n",
       "                        break;\n",
       "                    }\n",
       "                }\n",
       "            }, 500);\n",
       "            "
      ],
      "text/plain": [
       "<IPython.core.display.Javascript object>"
      ]
     },
     "metadata": {},
     "output_type": "display_data"
    }
   ],
   "source": [
    "figure_9b.graph.draw()"
   ]
  },
  {
   "cell_type": "code",
   "execution_count": 5,
   "metadata": {},
   "outputs": [
    {
     "data": {
      "image/png": "[encoded data removed]",
      "text/plain": [
       "<Figure size 432x288 with 1 Axes>"
      ]
     },
     "metadata": {},
     "output_type": "display_data"
    },
    {
     "data": {
      "application/javascript": [
       "\n",
       "            setTimeout(function() {\n",
       "                var nbb_cell_id = 5;\n",
       "                var nbb_unformatted_code = \"figure_9c.graph.draw()\";\n",
       "                var nbb_formatted_code = \"figure_9c.graph.draw()\";\n",
       "                var nbb_cells = Jupyter.notebook.get_cells();\n",
       "                for (var i = 0; i < nbb_cells.length; ++i) {\n",
       "                    if (nbb_cells[i].input_prompt_number == nbb_cell_id) {\n",
       "                        if (nbb_cells[i].get_text() == nbb_unformatted_code) {\n",
       "                             nbb_cells[i].set_text(nbb_formatted_code);\n",
       "                        }\n",
       "                        break;\n",
       "                    }\n",
       "                }\n",
       "            }, 500);\n",
       "            "
      ],
      "text/plain": [
       "<IPython.core.display.Javascript object>"
      ]
     },
     "metadata": {},
     "output_type": "display_data"
    }
   ],
   "source": [
    "figure_9c.graph.draw()"
   ]
  },
  {
   "cell_type": "markdown",
   "metadata": {},
   "source": [
    "We illustrate the operation of make-cg by showing how the graph in Fig. 9 (c) is derived from the graph in Fig. 9 (b). We start the application of Lemma 24 from the topmost observable nodes, and conclude that the node pairs $D_x, D$, and $X_d, X$ have the same functional mechanisms, and the same parent set (in this case the parents are unobservable nodes $U_d$ for the first pair, and $U$ for the second). We then use Lemma 25 to obtain the graph shown in Fig. 11 (a). \n",
    "Since the node pairs are the same, we pick the name of one of the nodes of the pair to serve as the name of the new node. In our case, we picked D and X . Note that for this graph, and all subsequent intermediate graphs we generate, we use the convention that if a merge creates a situation where an unobservable variable has a single child, that variable is omitted from the graph. For instance, in Fig. 11 (a), the variable $U_d$ , and its corresponding arrow to $D$ omitted. "
   ]
  },
  {
   "cell_type": "code",
   "execution_count": 6,
   "metadata": {},
   "outputs": [
    {
     "data": {
      "application/javascript": [
       "\n",
       "            setTimeout(function() {\n",
       "                var nbb_cell_id = 6;\n",
       "                var nbb_unformatted_code = \"cf_graph_1 = lemma_25(figure_9b.graph, D, D @ ~X)\\ncf_graph_2 = lemma_25(cf_graph_1, X, X @ D)\\ncf_graph_3 = lemma_25(cf_graph_2, Z, Z @ X)\\ncf_graph_4 = lemma_25(cf_graph_3, Z, Z @ D)\\ncf_graph_5 = lemma_25(cf_graph_4, W, W @ D)\\ncf_graph_6 = lemma_25(cf_graph_5, D, D @ D)\\ncf_graph_7 = lemma_25(cf_graph_6, Y, Y @ D)\\nfigure_11a_calculated = cf_graph_3\\nfigure_11b_calculated = cf_graph_6\\nfigure_11c_calculated = cf_graph_7\";\n",
       "                var nbb_formatted_code = \"cf_graph_1 = lemma_25(figure_9b.graph, D, D @ ~X)\\ncf_graph_2 = lemma_25(cf_graph_1, X, X @ D)\\ncf_graph_3 = lemma_25(cf_graph_2, Z, Z @ X)\\ncf_graph_4 = lemma_25(cf_graph_3, Z, Z @ D)\\ncf_graph_5 = lemma_25(cf_graph_4, W, W @ D)\\ncf_graph_6 = lemma_25(cf_graph_5, D, D @ D)\\ncf_graph_7 = lemma_25(cf_graph_6, Y, Y @ D)\\nfigure_11a_calculated = cf_graph_3\\nfigure_11b_calculated = cf_graph_6\\nfigure_11c_calculated = cf_graph_7\";\n",
       "                var nbb_cells = Jupyter.notebook.get_cells();\n",
       "                for (var i = 0; i < nbb_cells.length; ++i) {\n",
       "                    if (nbb_cells[i].input_prompt_number == nbb_cell_id) {\n",
       "                        if (nbb_cells[i].get_text() == nbb_unformatted_code) {\n",
       "                             nbb_cells[i].set_text(nbb_formatted_code);\n",
       "                        }\n",
       "                        break;\n",
       "                    }\n",
       "                }\n",
       "            }, 500);\n",
       "            "
      ],
      "text/plain": [
       "<IPython.core.display.Javascript object>"
      ]
     },
     "metadata": {},
     "output_type": "display_data"
    }
   ],
   "source": [
    "cf_graph_1 = lemma_25(figure_9b.graph, D, D @ ~X)\n",
    "cf_graph_2 = lemma_25(cf_graph_1, X, X @ D)\n",
    "cf_graph_3 = lemma_25(cf_graph_2, Z, Z @ X)\n",
    "cf_graph_4 = lemma_25(cf_graph_3, Z, Z @ D)\n",
    "cf_graph_5 = lemma_25(cf_graph_4, W, W @ D)\n",
    "cf_graph_6 = lemma_25(cf_graph_5, D, D @ D)\n",
    "cf_graph_7 = lemma_25(cf_graph_6, Y, Y @ D)\n",
    "figure_11a_calculated = cf_graph_3\n",
    "figure_11b_calculated = cf_graph_6\n",
    "figure_11c_calculated = cf_graph_7"
   ]
  },
  {
   "cell_type": "markdown",
   "metadata": {},
   "source": [
    "# ID* algorithm\n",
    "\n",
    "\n",
    "$\\text{function }\\mathbf{ID^*}\\left(G, \\gamma\\right) \\\\ \\text{INPUT: }\\text{  $G$ a causal diagram, $\\gamma$ a conjunction of counterfactual events}. \\\\  \\text{OUTPUT:  Expression for $P(\\gamma)$ in terms of $P_*$ or $\\mathbf{FAIL}$} $\n",
    "\n",
    "\n",
    "The notation used in these algorithms is somewhat intricate, so we give an intuitive description of each line. We start with **ID***.\n",
    "\n",
    "\n",
    "\n",
    "The first line states that if $\\gamma$ is an empty conjunction, then its probability is 1, by convention. \n",
    "\n",
    "1. if $\\gamma=0$ return $1$\n",
    "\n",
    "\n",
    "The second line states that if $\\gamma$ contains a counterfactual which violates the Axiom of Effectiveness (Pearl, 2000), then $\\gamma$ is inconsistent, and we return probability 0.\n",
    "\n",
    "2. if $(\\exists x_x'\\in \\gamma)$, return $0$ \n",
    "\n",
    "The third line states that if a counterfactual contains its own value in the subscript, then it is a tautological event, and it can be removed from $\\gamma$ without affecting its probability. \n",
    "\n",
    "3. if $(\\exists x_x\\in \\gamma)$, return $\\mathbf{ID^*}(G, \\gamma\\backslash\\{x_x,..\\})$\n",
    "\n",
    "Line 4 invokes `make-cg` to construct a counterfactual graph $G'$ , and the corresponding relabeled counterfactual $\\gamma'$ \n",
    "\n",
    "4.  in $(G',\\gamma')= $ **make-cg**$(G,\\gamma)$. \n",
    "\n",
    " \n",
    "\n",
    "Line 5 returns probability 0 if an inconsistency was found during the construction of the counterfactual graph, for example, if two variables found to be the same in γ had different value assignments. \n",
    "\n",
    "5. if $\\gamma' = $ **INCONSISTENT**, return 0\n",
    "\n",
    "Line 6 is analogous to Line 4 in the ID algorithm, it decomposes the problem into a set of subproblems, one for each C-component in the counterfactual graph. In the ID algorithm, the term corresponding to a given C-component $S_i$ of the causal diagram was the effect of all variables not in $S_i$ on variables in $S_i$ , in other words $P_{\\mathbf{v}\\backslash s_i} (s_i )$, and the outermost summation on line 4 was over values of variables not in $\\mathbf{Y},\\mathbf{X}$. Here, the term corresponding to a given C-component $S^i$ of the counterfactual graph $G'$ is the conjunction of counterfactual variables where each variable contains in its subscript all variables not in the C-component $S^i$ , in other words $\\mathbf{v}(G' )\\backslash s^i$ , and the outermost summation is over observable variables not in $\\gamma'$ , that is over $\\mathbf{v}(G')\\backslash \\gamma'$ , where we interpret $\\gamma'$ as a set of counterfactuals, rather than a conjunction. \n",
    "\n",
    "6. if $C(G') = \\{S^1, \\ldots, S^k\\}$, return $\\sum_{V(G')\\backslash\\gamma'}\\prod_i\\mathbf{ID^*}(G, s^i_{v(G')\\backslash s^i})$\n",
    "\n",
    "Line 7 is the base case, where our counterfactual graph has a single Ccomponent. \n",
    "\n",
    "7. if $C(G')= \\{S\\}$ then,\n",
    "\n",
    "\n",
    "\n",
    "There are two cases, corresponding to line 8 and line 9. \n",
    "\n",
    "     \n",
    "Line 8 says that if γ 0 contains a “conflict,” that is an inconsistent value assignment where at least one value is in the subscript, then we fail. \n",
    "\n",
    "8. if $(\\exists\\mathbf{x},\\mathbf{x'})$ s.t. $x\\not=\\mathbf{x'}, \\mathbf{x}\\in \\mathbf{sub}(S), \\mathbf{x'}\\in \\mathbf{ev}(S)$, throw **FAIL**\n",
    "\n",
    "Line 9 says if there are no conflicts, then its safe to take the union of all subscripts in γ 0 , and return the effect of the subscripts in γ 0 on the variables in γ 0 . \n",
    "\n",
    "\n",
    "9. else, let $\\mathbf{x} = \\cup\\mathbf{sub}(S)$ return $P_\\mathbf{x}(\\mathbf{var}(S))$\n"
   ]
  },
  {
   "cell_type": "markdown",
   "metadata": {},
   "source": [
    "# IDC* algorithm\n",
    "\n",
    "The **IDC***, like its counterpart **IDC**, is shorter. \n",
    "\n",
    "\n",
    "The first line fails if $\\gamma$ is inconsistent. **IDC** did not have an equivalent line, since we can assume $P(\\mathbf{v})$ is positive. The problem with counterfactual distributions is there is no simple way to prevent non-positive distributions spanning multiple worlds from arising, even if the original P(v) was positive—hence the explicit check. \n",
    "\n",
    "1. if $\\mathbf{ID*}(G,\\delta)=0$, return **UNDEFINED**\n",
    "\n",
    "The second line constructs the counterfactual graph, except since make-cg can only take conjunctions, we provide it with a joint counterfactual γ ^ δ. \n",
    "\n",
    "2. $(G',\\gamma'\\wedge\\delta')=\\mathbf{make-cg}(G,\\gamma\\wedge\\delta)$\n",
    "\n",
    "Line 3 returns 0 if an inconsistency was detected. \n",
    "\n",
    "3. if $\\gamma'\\wedge\\delta' =$  **INCONSISTENT**, return $0$\n",
    "\n",
    "\n",
    "Line 4 of **IDC*** is the central line of the algorithm and is analogous to line 1 of **IDC**. In **IDC**, we moved value assignment $Z = z$ from being observed to being fixed if there were no back-door paths from $Z$ to the outcome variables $\\mathbf{Y}$ given the context of the effect of $do(\\mathbf{x})$. Here in **IDC***, we move a counterfactual value assignment $Y_\\mathbf{x} = y$ from being observed (that is being a part of $\\delta$), to being fixed (that is appearing in every subscript of $\\gamma'$) if there are no back-door paths from $Y_\\mathbf{x}$ to the counterfactual of interest $\\gamma'$.\n",
    "\n",
    "$$\\newcommand\\ci{\\perp\\!\\!\\!\\perp}$$\n",
    "$$\\newcommand{\\ubar}[1]{\\underset{\\bar{}}{#1}}\n",
    "\\newcommand{\\obar}[1]{\\overset{\\bar{}}{#1}}$$\n",
    "\n",
    "4. if $(\\exists y_\\mathbf{x}\\in\\delta')$ s.t. $(Y_\\mathbf{x} \\ci \\gamma')G'_{\\ubar{y\\mathbf{x}}}$, return $\\mathbf{IDC^*}(G, \\gamma'_{y\\mathbf{X}},\\delta'\\backslash\\{y_{\\mathbf{X}}\\})$\n",
    "\n",
    "Finally, line 5 of **IDC*** is the analogue of line 2 of **IDC**, we attempt to identify a joint counterfactual probability, and then obtain a conditional counterfactual probability from the result.\n",
    "\n",
    "5. else, let $P'=\\mathbf{ID^*}(G,\\gamma'\\wedge\\delta')$. return $\\frac{P'}{P'(\\delta)}$"
   ]
  },
  {
   "cell_type": "markdown",
   "metadata": {},
   "source": [
    "[IDC*](images/Figure12b-IDC_star.png)"
   ]
  },
  {
   "cell_type": "code",
   "execution_count": 4,
   "metadata": {},
   "outputs": [
    {
     "ename": "NameError",
     "evalue": "name 'figure_9b_calculated' is not defined",
     "output_type": "error",
     "traceback": [
      "\u001b[0;31m---------------------------------------------------------------------------\u001b[0m",
      "\u001b[0;31mNameError\u001b[0m                                 Traceback (most recent call last)",
      "\u001b[0;32m<ipython-input-4-f51fd284c9bc>\u001b[0m in \u001b[0;36m<module>\u001b[0;34m\u001b[0m\n\u001b[1;32m      3\u001b[0m \u001b[0mfigure_9a\u001b[0m\u001b[0;34m.\u001b[0m\u001b[0mgraph\u001b[0m\u001b[0;34m.\u001b[0m\u001b[0mdraw\u001b[0m\u001b[0;34m(\u001b[0m\u001b[0max\u001b[0m\u001b[0;34m=\u001b[0m\u001b[0maxes\u001b[0m\u001b[0;34m[\u001b[0m\u001b[0;36m0\u001b[0m\u001b[0;34m]\u001b[0m\u001b[0;34m[\u001b[0m\u001b[0;36m0\u001b[0m\u001b[0;34m]\u001b[0m\u001b[0;34m,\u001b[0m \u001b[0mtitle\u001b[0m\u001b[0;34m=\u001b[0m\u001b[0;34m\"Figure 9A\"\u001b[0m\u001b[0;34m)\u001b[0m\u001b[0;34m\u001b[0m\u001b[0;34m\u001b[0m\u001b[0m\n\u001b[1;32m      4\u001b[0m \u001b[0mfigure_9b\u001b[0m\u001b[0;34m.\u001b[0m\u001b[0mgraph\u001b[0m\u001b[0;34m.\u001b[0m\u001b[0mdraw\u001b[0m\u001b[0;34m(\u001b[0m\u001b[0max\u001b[0m\u001b[0;34m=\u001b[0m\u001b[0maxes\u001b[0m\u001b[0;34m[\u001b[0m\u001b[0;36m0\u001b[0m\u001b[0;34m]\u001b[0m\u001b[0;34m[\u001b[0m\u001b[0;36m1\u001b[0m\u001b[0;34m]\u001b[0m\u001b[0;34m,\u001b[0m \u001b[0mtitle\u001b[0m\u001b[0;34m=\u001b[0m\u001b[0;34m\"Figure 9B (canonical)\"\u001b[0m\u001b[0;34m)\u001b[0m\u001b[0;34m\u001b[0m\u001b[0;34m\u001b[0m\u001b[0m\n\u001b[0;32m----> 5\u001b[0;31m \u001b[0mfigure_9b_calculated\u001b[0m\u001b[0;34m.\u001b[0m\u001b[0mdraw\u001b[0m\u001b[0;34m(\u001b[0m\u001b[0max\u001b[0m\u001b[0;34m=\u001b[0m\u001b[0maxes\u001b[0m\u001b[0;34m[\u001b[0m\u001b[0;36m1\u001b[0m\u001b[0;34m]\u001b[0m\u001b[0;34m[\u001b[0m\u001b[0;36m0\u001b[0m\u001b[0;34m]\u001b[0m\u001b[0;34m,\u001b[0m \u001b[0mtitle\u001b[0m\u001b[0;34m=\u001b[0m\u001b[0;34m\"Figure 9B (calculated)\"\u001b[0m\u001b[0;34m)\u001b[0m\u001b[0;34m\u001b[0m\u001b[0;34m\u001b[0m\u001b[0m\n\u001b[0m\u001b[1;32m      6\u001b[0m \u001b[0mfigure_9c\u001b[0m\u001b[0;34m.\u001b[0m\u001b[0mgraph\u001b[0m\u001b[0;34m.\u001b[0m\u001b[0mdraw\u001b[0m\u001b[0;34m(\u001b[0m\u001b[0max\u001b[0m\u001b[0;34m=\u001b[0m\u001b[0maxes\u001b[0m\u001b[0;34m[\u001b[0m\u001b[0;36m1\u001b[0m\u001b[0;34m]\u001b[0m\u001b[0;34m[\u001b[0m\u001b[0;36m1\u001b[0m\u001b[0;34m]\u001b[0m\u001b[0;34m,\u001b[0m \u001b[0mtitle\u001b[0m\u001b[0;34m=\u001b[0m\u001b[0;34m\"Figure 9C\"\u001b[0m\u001b[0;34m)\u001b[0m\u001b[0;34m\u001b[0m\u001b[0;34m\u001b[0m\u001b[0m\n\u001b[1;32m      7\u001b[0m \u001b[0mplt\u001b[0m\u001b[0;34m.\u001b[0m\u001b[0mshow\u001b[0m\u001b[0;34m(\u001b[0m\u001b[0;34m)\u001b[0m\u001b[0;34m\u001b[0m\u001b[0;34m\u001b[0m\u001b[0m\n",
      "\u001b[0;31mNameError\u001b[0m: name 'figure_9b_calculated' is not defined"
     ]
    },
    {
     "data": {
      "image/png": "[encoded data removed]",
      "text/plain": [
       "<Figure size 720x432 with 4 Axes>"
      ]
     },
     "metadata": {
      "needs_background": "light"
     },
     "output_type": "display_data"
    },
    {
     "data": {
      "application/javascript": [
       "\n",
       "            setTimeout(function() {\n",
       "                var nbb_cell_id = 4;\n",
       "                var nbb_unformatted_code = \"fig, axes = plt.subplots(2, 2, figsize=(10, 6.0))\\n\\nfigure_9a.graph.draw(ax=axes[0][0], title=\\\"Figure 9A\\\")\\nfigure_9b.graph.draw(ax=axes[0][1], title=\\\"Figure 9B (canonical)\\\")\\nfigure_9b_calculated.draw(ax=axes[1][0], title=\\\"Figure 9B (calculated)\\\")\\nfigure_9c.graph.draw(ax=axes[1][1], title=\\\"Figure 9C\\\")\\nplt.show()\";\n",
       "                var nbb_formatted_code = \"fig, axes = plt.subplots(2, 2, figsize=(10, 6.0))\\n\\nfigure_9a.graph.draw(ax=axes[0][0], title=\\\"Figure 9A\\\")\\nfigure_9b.graph.draw(ax=axes[0][1], title=\\\"Figure 9B (canonical)\\\")\\nfigure_9b_calculated.draw(ax=axes[1][0], title=\\\"Figure 9B (calculated)\\\")\\nfigure_9c.graph.draw(ax=axes[1][1], title=\\\"Figure 9C\\\")\\nplt.show()\";\n",
       "                var nbb_cells = Jupyter.notebook.get_cells();\n",
       "                for (var i = 0; i < nbb_cells.length; ++i) {\n",
       "                    if (nbb_cells[i].input_prompt_number == nbb_cell_id) {\n",
       "                        if (nbb_cells[i].get_text() == nbb_unformatted_code) {\n",
       "                             nbb_cells[i].set_text(nbb_formatted_code);\n",
       "                        }\n",
       "                        break;\n",
       "                    }\n",
       "                }\n",
       "            }, 500);\n",
       "            "
      ],
      "text/plain": [
       "<IPython.core.display.Javascript object>"
      ]
     },
     "metadata": {},
     "output_type": "display_data"
    }
   ],
   "source": [
    "fig, axes = plt.subplots(2, 2, figsize=(10, 6.0))\n",
    "\n",
    "figure_9a.graph.draw(ax=axes[0][0], title=\"Figure 9A\")\n",
    "figure_9b.graph.draw(ax=axes[0][1], title=\"Figure 9B (canonical)\")\n",
    "figure_9b_calculated.draw(ax=axes[1][0], title=\"Figure 9B (calculated)\")\n",
    "figure_9c.graph.draw(ax=axes[1][1], title=\"Figure 9C\")\n",
    "plt.show()"
   ]
  },
  {
   "cell_type": "code",
   "execution_count": null,
   "metadata": {},
   "outputs": [],
   "source": [
    "fig, axes = plt.subplots(3, 2, figsize=(10, 6.0))\n",
    "\n",
    "figure_11a.graph.draw(ax=axes[0][0], title=\"Figure 11a (expected)\")\n",
    "figure_11a_calculated.draw(ax=axes[0][1], title=\"Figure 11a (actual)\")\n",
    "figure_11b.graph.draw(ax=axes[1][0], title=\"Figure 11b (expected)\")\n",
    "figure_11b_calculated.draw(ax=axes[1][1], title=\"Figure 11b (actual)\")\n",
    "figure_11c.graph.draw(ax=axes[2][0], title=\"Figure 11c (expected)\")\n",
    "figure_11c_calculated.draw(ax=axes[2][1], title=\"Figure 11c (actual)\")\n",
    "\n",
    "plt.show()"
   ]
  },
  {
   "cell_type": "markdown",
   "metadata": {},
   "source": [
    "Next, we apply Lemma 24 for the node pair Wd ; W . In this case, the functional mechanisms are once again the same, while the parents of Wd ; W are X and Uw . We can also apply Lemma 24 twice to conclude that Z ; Z x and Z d are in fact the same node, and so can be merged. The functional mechanisms of these three nodes are the same, and they share the parent U z . As far as the parents of this triplet, the Uz parent is shared by all three, while Z ; Z x share the parent D, and Z d has a separate parent d , fixed by intervention. However, in our counterfactual query, which is P(y x jx 0 ; z d ; d ), the variable D happens to be observed to attain the value d , the same as the intervention value for the parent of Z d . This implies that for the purposes of the Z ; Z x ; Z d triplet, their D-derived parents share the same value, which allows us to conclude they are the same random variable. The intuition here is that while intervention and observation are not the same operation, they have the same effect if the relevant U variables happen to react in the same way to both the given intervention, and the given observation (this is the essence of the Axiom of Composition discussed by Pearl (2000).) In our case, U variables react the same way because the parallel worlds share all unobserved variables. "
   ]
  },
  {
   "cell_type": "markdown",
   "metadata": {},
   "source": [
    "# Walkthrough of IDC*\n",
    "\n",
    "![idc_star_walkthrough](images/idc_star_walkthrough.png)"
   ]
  },
  {
   "cell_type": "markdown",
   "metadata": {},
   "source": [
    "## Line 2 of **IDC***\n",
    "\n",
    "We illustrate the operation of these algorithms by considering the identification of a query $P(y_x |x', z_d, d)$ we mentioned earlier.  Since $P(x, z_d, d)$ is not inconsistent, we proceed to construct the counterfactual graph on line 2.  Suppose we produce the counterfactual graph Figure 9(c) where the corresponding modified query is $P(y_x|x',z,d)$.  "
   ]
  },
  {
   "cell_type": "code",
   "execution_count": null,
   "metadata": {},
   "outputs": [],
   "source": [
    "new_graph, new_query = make_counterfactual_graph(figure_9a.graph, P(Y @ ~X, X, Z, D))\n",
    "display(new_query)\n",
    "new_graph.draw()"
   ]
  },
  {
   "cell_type": "markdown",
   "metadata": {},
   "source": [
    "## Line 4 of **IDC***\n",
    "\n",
    "Since $P(y_x, x', z, d)$ is not inconsistent, we proceed to line 4, which moves $z,d$ (with $d$ being redundant due to graph strucure) to the subscript of $y_x$, to obtain $P(y_{x,z}|x')$, and calls **IDC*** with this query recursively. Note that since the subscripts in one of the variables of our query changed, the counterfactual graph generated will change as well.  In particular, the invocation of **make-cg** with the joint distribution from which $P(y_{x,z}|x')$ is derived, namely $P(y_{x,z},x')$, will result in the graph shown in Fig. 9(d).\n",
    "\n"
   ]
  },
  {
   "cell_type": "code",
   "execution_count": null,
   "metadata": {},
   "outputs": [],
   "source": [
    "from y0.graph import NxMixedGraph\n",
    "from y0.dsl import Probability\n",
    "from typing import Tuple\n",
    "from y0.algorithm.identify.id_star import get_worlds\n",
    "\n",
    "\n",
    "def make_counterfactual_graph(\n",
    "    graph: NxMixedGraph[Variable], query: Probability\n",
    ") -> Tuple[NxMixedGraph[Variable], Probability]:\n",
    "    \"\"\"Make counterfactual graph\"\"\"\n",
    "    worlds = get_worlds(query)\n",
    "    pw_graph = make_parallel_worlds_graph(graph, worlds)\n",
    "    new_query_variables = set(query.distribution.children)\n",
    "    cf_graph = NxMixedGraph.from_edges(\n",
    "        nodes=pw_graph.nodes(),\n",
    "        directed=pw_graph.directed.edges(),\n",
    "        undirected=pw_graph.undirected.edges(),\n",
    "    )\n",
    "    for node in graph.topological_sort():\n",
    "        for intervention in worlds:\n",
    "            if (\n",
    "                (node in cf_graph.nodes())\n",
    "                and (node @ intervention in cf_graph.nodes())\n",
    "                and lemma_24(cf_graph, node, node @ intervention)\n",
    "            ):\n",
    "                cf_graph = lemma_25(cf_graph, node, node @ intervention)\n",
    "                if node @ intervention in new_query_variables:\n",
    "                    new_query_variables = new_query_variables - {\n",
    "                        node @ intervention\n",
    "                    } | {node}\n",
    "\n",
    "        if len(worlds) > 1:\n",
    "            for intervention1, intervention2 in combinations(worlds, 2):\n",
    "                if (\n",
    "                    (node @ intervention1 in cf_graph.nodes())\n",
    "                    and (node @ intervention2 in cf_graph.nodes())\n",
    "                    and lemma_24(cf_graph, node @ intervention1, node @ intervention2)\n",
    "                ):\n",
    "                    cf_graph = lemma_25(\n",
    "                        cf_graph, node @ intervention1, node @ intervention2\n",
    "                    )\n",
    "                    if node @ intervention2 in new_query_variables:\n",
    "                        new_query_variables = new_query_variables - {\n",
    "                            node @ intervention2\n",
    "                        } | {node @ intervention1}\n",
    "    return cf_graph.subgraph(cf_graph.ancestors_inclusive(new_query_variables)), P(\n",
    "        new_query_variables\n",
    "    )\n",
    "\n",
    "\n",
    "def make_counterfactual_graph2(\n",
    "    graph: NxMixedGraph[Variable], query: Probability\n",
    ") -> Tuple[NxMixedGraph[Variable], Probability]:\n",
    "    \"\"\"Make counterfactual graph\"\"\"\n",
    "    worlds = get_worlds(query)\n",
    "    pw_graph = make_parallel_worlds_graph(graph, worlds)\n",
    "    new_query_variables = set(query.distribution.children)\n",
    "    cf_graph = NxMixedGraph.from_edges(\n",
    "        nodes=pw_graph.nodes(),\n",
    "        directed=pw_graph.directed.edges(),\n",
    "        undirected=pw_graph.undirected.edges(),\n",
    "    )\n",
    "    for node in graph.topological_sort():\n",
    "        for intervention in worlds:\n",
    "            if (\n",
    "                (node in cf_graph.nodes())\n",
    "                and (node @ intervention in cf_graph.nodes())\n",
    "                and lemma_24(cf_graph, node, node @ intervention)\n",
    "            ):\n",
    "                cf_graph = lemma_25(cf_graph, node, node @ intervention)\n",
    "                if node @ intervention in new_query_variables:\n",
    "                    new_query_variables = new_query_variables - {\n",
    "                        node @ intervention\n",
    "                    } | {node}\n",
    "\n",
    "        if len(worlds) > 1:\n",
    "            for intervention1, intervention2 in combinations(worlds, 2):\n",
    "                if (\n",
    "                    (node @ intervention1 in cf_graph.nodes())\n",
    "                    and (node @ intervention2 in cf_graph.nodes())\n",
    "                    and lemma_24(cf_graph, node @ intervention1, node @ intervention2)\n",
    "                ):\n",
    "                    cf_graph = lemma_25(\n",
    "                        cf_graph, node @ intervention1, node @ intervention2\n",
    "                    )\n",
    "                    if node @ intervention2 in new_query_variables:\n",
    "                        new_query_variables = new_query_variables - {\n",
    "                            node @ intervention2\n",
    "                        } | {node @ intervention1}\n",
    "    display(cf_graph.draw())\n",
    "    display(new_query_variables)\n",
    "    return cf_graph.subgraph(cf_graph.ancestors_inclusive(new_query_variables)), P(\n",
    "        new_query_variables\n",
    "    )"
   ]
  },
  {
   "cell_type": "code",
   "execution_count": null,
   "metadata": {},
   "outputs": [],
   "source": [
    "input_query = P(Y @ (Z, ~X), X)\n",
    "input_graph = figure_9a.graph\n",
    "actual_graph, actual_query = make_counterfactual_graph(input_graph, input_query)\n",
    "actual_graph.draw()"
   ]
  },
  {
   "cell_type": "code",
   "execution_count": null,
   "metadata": {},
   "outputs": [],
   "source": [
    "backdoor = NxMixedGraph.from_edges(\n",
    "    directed=[\n",
    "        (Z, X),\n",
    "        (Z, Y),\n",
    "        (X, Y),\n",
    "    ]\n",
    ")\n",
    "backdoor.intervene([X]).draw()"
   ]
  },
  {
   "cell_type": "code",
   "execution_count": null,
   "metadata": {},
   "outputs": [],
   "source": [
    "backdoor.intervene([~X]).draw()"
   ]
  },
  {
   "cell_type": "code",
   "execution_count": null,
   "metadata": {},
   "outputs": [],
   "source": [
    "interventions = {Z, ~X}\n",
    "nodes = set(backdoor.nodes()    )\n",
    "for intervention in interventions:\n",
    "    if intervention not in nodes:\n",
    "        if ~intervention in nodes:\n",
    "            \n",
    "        "
   ]
  },
  {
   "cell_type": "code",
   "execution_count": null,
   "metadata": {},
   "outputs": [],
   "source": [
    "worlds = get_worlds(P( Y @ (Z, ~X), X))\n",
    "worlds"
   ]
  },
  {
   "cell_type": "code",
   "execution_count": null,
   "metadata": {},
   "outputs": [],
   "source": [
    "figure_9a.graph.draw()"
   ]
  },
  {
   "cell_type": "code",
   "execution_count": null,
   "metadata": {},
   "outputs": [],
   "source": [
    "double_intervention_world = figure_9a.graph.intervene([Z, ~X])\n",
    "double_intervention_world.draw()"
   ]
  },
  {
   "cell_type": "code",
   "execution_count": null,
   "metadata": {},
   "outputs": [],
   "source": [
    "intervention = ~X\n",
    "type(~intervention)"
   ]
  },
  {
   "cell_type": "code",
   "execution_count": null,
   "metadata": {},
   "outputs": [],
   "source": [
    "pw_graph =     make_parallel_worlds_graph(figure_9a.graph, worlds)\n",
    "pw_graph.draw()"
   ]
  },
  {
   "cell_type": "code",
   "execution_count": null,
   "metadata": {},
   "outputs": [],
   "source": [
    "sorted(_get_treatment_variables((Y @ (Z, ~X)).get_variables()), key=lambda x: str(x))"
   ]
  },
  {
   "cell_type": "code",
   "execution_count": null,
   "metadata": {},
   "outputs": [],
   "source": [
    "sorted(get_worlds(input_query))"
   ]
  },
  {
   "cell_type": "code",
   "execution_count": null,
   "metadata": {},
   "outputs": [],
   "source": [
    "graph = NxMixedGraph.from_edges(\n",
    "    nodes=(X, X @ (Z, ~X), Z, W @ (Z, ~X), Y @ (Z, ~X)),\n",
    "    directed=[(X @ (Z, ~X), W @ (Z, ~X)), (Z, Y @ (Z, ~X)), (W @ (Z, ~X), Y @ (Z, ~X))],\n",
    "    undirected=[(X, Y @ (Z, ~X))],\n",
    ")\n",
    "graph.draw()"
   ]
  },
  {
   "cell_type": "code",
   "execution_count": null,
   "metadata": {},
   "outputs": [],
   "source": [
    "from y0.mutate import canonicalize\n",
    "\n",
    "ordering = sorted(P(Y @ (Z, ~X), X).get_variables(), key=lambda x: str(x))\n",
    "ordering"
   ]
  },
  {
   "cell_type": "markdown",
   "metadata": {},
   "source": [
    "![idc_star_walkthrough](images/idc_star_walkthrough.png)"
   ]
  },
  {
   "cell_type": "code",
   "execution_count": null,
   "metadata": {},
   "outputs": [],
   "source": [
    "query = P(Y@~X | X, Z, D)\n",
    "query.children"
   ]
  },
  {
   "cell_type": "code",
   "execution_count": null,
   "metadata": {},
   "outputs": [],
   "source": [
    "query.parents + query.children"
   ]
  },
  {
   "cell_type": "markdown",
   "metadata": {},
   "source": [
    "# Line 6\n",
    "\n",
    "The first interesting line in **ID*** is line 6, which first computes $P(y_{x,z}, w_{x,z}, x')$ by marginalization over $W_{x,z}$.  Since the counterfactual graph for this query (Fig 9 (d)) has two C-components, $\\{Y_{x,z}, X\\}$ and $W_{x,z}$, $P(y_{x,z}, w_{x,z}, x') = P(y_{x,z,w},x'_w)P(w_x)$, which can be simplified by removing redundant subscripts to $P(y_{z,w},x')P(w_x)$.  Line 6 then recursively calls **ID*** with $P(y_{x,z,w},x')$ and $P(w_x)$, which means our query is identifiable as $P'=\\sum_wP_{z,w}(y,x')P_x(w)$ and the conditional query is equal to $P'/P'(x')$."
   ]
  },
  {
   "cell_type": "code",
   "execution_count": null,
   "metadata": {},
   "outputs": [],
   "source": [
    "figure_9d.graph.draw()"
   ]
  },
  {
   "cell_type": "markdown",
   "metadata": {},
   "source": [
    "## Line 9\n",
    "\n",
    "The first recursive call reaches line 9 with $P(y_{z,w}, x')$ which is identifiable as $P_{z,w}(y,x')$ from $P_*$.  "
   ]
  },
  {
   "cell_type": "code",
   "execution_count": null,
   "metadata": {},
   "outputs": [],
   "source": [
    "from y0.algorithm.identify.id_star import id_star_line_9\n",
    "\n",
    "id_star_line_9(figure_9a.graph, P(Y @ {Z, W}, X))"
   ]
  },
  {
   "cell_type": "code",
   "execution_count": null,
   "metadata": {},
   "outputs": [],
   "source": [
    "foo = set()\n",
    "foo.add(Variable('A'))\n",
    "foo.add(Variable('B'))\n",
    "foo.add(Variable('A'))\n",
    "foo"
   ]
  },
  {
   "cell_type": "code",
   "execution_count": null,
   "metadata": {},
   "outputs": [],
   "source": [
    "Xprime = Variable(\"X^*\")\n",
    "\n",
    "input_query = P(Y @ {Z, W}, Xprime)\n",
    "output_query = P[Z, W](Y, Xprime)\n",
    "display(input_query)\n",
    "display(output_query)"
   ]
  },
  {
   "cell_type": "code",
   "execution_count": null,
   "metadata": {},
   "outputs": [],
   "source": [
    "from y0.graph import NxMixedGraph\n",
    "from y0.dsl import Variable, Probability, Intervention\n",
    "from itertools import combinations\n",
    "from typing import Collection, Tuple\n",
    "from networkx.algorithms.dag import topological_sort\n",
    "from networkx import DiGraph\n",
    "from y0.algorithm.identify.id_star import get_worlds"
   ]
  },
  {
   "cell_type": "code",
   "execution_count": null,
   "metadata": {},
   "outputs": [],
   "source": [
    "sorted(set([frozenset(['a','b']), frozenset(['b','e']), frozenset(['e','b'])]))"
   ]
  },
  {
   "cell_type": "code",
   "execution_count": null,
   "metadata": {},
   "outputs": [],
   "source": [
    "graph = figure_9a.graph\n",
    "figure_9_query = P(Y @ ~X, X, Z @ D, D)\n",
    "\n",
    "worlds = get_worlds(figure_9_query)\n",
    "pw_graph = make_parallel_worlds_graph( graph, worlds)"
   ]
  },
  {
   "cell_type": "code",
   "execution_count": null,
   "metadata": {},
   "outputs": [],
   "source": [
    "from y0.dsl import Intervention\n",
    "{v for v in figure_9_query.get_variables() if not isinstance(v, Intervention)}"
   ]
  },
  {
   "cell_type": "code",
   "execution_count": null,
   "metadata": {},
   "outputs": [],
   "source": [
    "dir(figure_9_query.distribution)"
   ]
  },
  {
   "cell_type": "code",
   "execution_count": null,
   "metadata": {},
   "outputs": [],
   "source": [
    "X @ ~X"
   ]
  },
  {
   "cell_type": "code",
   "execution_count": null,
   "metadata": {},
   "outputs": [],
   "source": [
    "figure_9_query.distribution.parents"
   ]
  },
  {
   "cell_type": "code",
   "execution_count": null,
   "metadata": {},
   "outputs": [],
   "source": [
    "query = P( Y @ ~X | X, Z @ D, D )\n",
    "query.distribution.parents"
   ]
  },
  {
   "cell_type": "code",
   "execution_count": null,
   "metadata": {},
   "outputs": [],
   "source": [
    "from y0.algorithm.identify.id_star import make_counterfactual_graph\n",
    "graph, query = make_counterfactual_graph( figure_9a.graph, figure_9_query)\n",
    "display(query)\n",
    "graph.draw()"
   ]
  },
  {
   "cell_type": "code",
   "execution_count": null,
   "metadata": {},
   "outputs": [],
   "source": [
    "dir(X@ ~X)"
   ]
  },
  {
   "cell_type": "code",
   "execution_count": null,
   "metadata": {},
   "outputs": [],
   "source": [
    "node = X @ ~X\n",
    "node.given()"
   ]
  },
  {
   "cell_type": "code",
   "execution_count": null,
   "metadata": {},
   "outputs": [],
   "source": [
    "figure_9b_calculated == str_nodes_to_expr_nodes(figure_9b.graph)"
   ]
  },
  {
   "cell_type": "code",
   "execution_count": null,
   "metadata": {},
   "outputs": [],
   "source": [
    "admg = figure_9b_calculated.to_admg()\n",
    "lvm= admg_to_latent_variable_dag(admg)"
   ]
  },
  {
   "cell_type": "code",
   "execution_count": null,
   "metadata": {},
   "outputs": [],
   "source": [
    "\n",
    "for var1, var2 in combinations(figure_9_query.get_variables(), 2):\n",
    "    if var1.name == var2.name:\n",
    "        print(var1, var2, var1.name, var2.name)\n",
    "        if isinstance(var1, Intervention) and isinstance(var2, Intervention):\n",
    "            print(\"var1 == var2\", var1.star == var2.star)\n",
    "        elif isinstance(var1, Intervention):\n",
    "            print(\"var1 \", var1.star, var2)\n",
    "        elif isinstance(var2, Intervention):\n",
    "            print(var1, \"var2\", var2.star)\n",
    "        else:\n",
    "            print(var1, var2)"
   ]
  },
  {
   "cell_type": "code",
   "execution_count": null,
   "metadata": {},
   "outputs": [],
   "source": [
    "figure_9_query"
   ]
  },
  {
   "cell_type": "code",
   "execution_count": null,
   "metadata": {},
   "outputs": [],
   "source": [
    "\n",
    "cf_vars = [var for var in figure_9_query.get_variables()\n",
    "          if isinstance(var, CounterfactualVariable)]\n",
    "worlds = [_get_treatment_variables(cf.get_variables()) for cf in cf_vars]\n",
    "isinstance(~X, Variable)"
   ]
  },
  {
   "cell_type": "code",
   "execution_count": null,
   "metadata": {},
   "outputs": [],
   "source": [
    "_get_treatment_variables(Y@ (~X, Z)"
   ]
  },
  {
   "cell_type": "code",
   "execution_count": null,
   "metadata": {},
   "outputs": [],
   "source": [
    "from y0.graph import admg_from_latent_variable_dag, admg_to_latent_variable_dag\n",
    "from IPython.display import Image\n",
    "import networkx as nx\n",
    "admg = figure_9b.graph.to_admg()\n",
    "lvm = admg_to_latent_variable_dag(admg)\n",
    "lvm_agraph = nx.nx_agraph.to_agraph(lvm)\n",
    "lvm_agraph.layout(prog=\"dot\")\n",
    "lvm_agraph.draw(\"figure_9b_lvm.png\")\n",
    "Image(\"figure_9b_lvm.png\")"
   ]
  },
  {
   "cell_type": "code",
   "execution_count": null,
   "metadata": {},
   "outputs": [],
   "source": [
    "def combine_parallel_worlds_lvm(\n",
    "    graph: NxMixedGraph[Variable],\n",
    "    combined_worlds: Collection[NxMixedGraph[Variable]],\n",
    "    worlds: Collection[Collection[Variable]],\n",
    ") -> NxMixedGraph[Variable]:\n",
    "    \"\"\"Stitch together parallel worlds through the magic of latent variables\"\"\"\n",
    "    # get all the undirected edges in all the parallel worlds\n",
    "    undirected = [(u, v) for world in combined_worlds for u, v in world.undirected.edges()]\n",
    "    # Stitch together counterfactual variables with observed variables\n",
    "    undirected += [\n",
    "        (u, u @ treatments)\n",
    "        for treatments in worlds\n",
    "        for u in graph.nodes()\n",
    "        # Don't add an edge if a variable is intervened on\n",
    "        if (u not in treatments) and (~u not in treatments)\n",
    "    ]\n",
    "    undirected += [\n",
    "        (u, v @ treatments)\n",
    "        for treatments in worlds\n",
    "        for u in graph.nodes()\n",
    "        for v in graph.undirected.neighbors(u)\n",
    "        # Don't add an edge if a variable is intervened on\n",
    "        if (v not in treatments) and (~v not in treatments)\n",
    "    ]\n",
    "    # Stitch together variables from different counterfactual worlds\n",
    "    if len(worlds) > 1:\n",
    "        undirected += [\n",
    "            (u @ treatments_from_world_1, u @ treatments_from_world_2)\n",
    "            for treatments_from_world_1, treatments_from_world_2 in combinations(worlds, 2)\n",
    "            for u in graph.nodes()\n",
    "            # Don't add an edge if a variable is intervened on in either world.\n",
    "            if (u not in treatments_from_world_1)\n",
    "            and (u not in treatments_from_world_2)\n",
    "            and (~u not in treatments_from_world_1)\n",
    "            and (~u not in treatments_from_world_2)\n",
    "        ]\n",
    "        undirected += [\n",
    "            (u @ treatments_from_world_1, v @ treatments_from_world_2)\n",
    "            for treatments_from_world_1, treatments_from_world_2 in combinations(worlds, 2)\n",
    "            for u in graph.nodes()\n",
    "            for v in graph.undirected.neighbors(u)\n",
    "            # Don't add an edge if a variable is intervened on in either world.\n",
    "            if (u not in treatments_from_world_1)\n",
    "            and (v not in treatments_from_world_2)\n",
    "            and (~u not in treatments_from_world_1)\n",
    "            and (~v not in treatments_from_world_2)\n",
    "        ]\n",
    "    return NxMixedGraph.from_edges(\n",
    "        nodes=list(graph.nodes())\n",
    "        + [node for pw_graph in combined_worlds for node in pw_graph.nodes()],\n",
    "        directed=list(graph.directed.edges())\n",
    "        + [(u, v) for pw_graph in combined_worlds for u, v in pw_graph.directed.edges()],\n",
    "        undirected=list(graph.undirected.edges()) + undirected,\n",
    "    )\n"
   ]
  },
  {
   "cell_type": "code",
   "execution_count": null,
   "metadata": {},
   "outputs": [],
   "source": [
    "from y0.graph import str_nodes_to_expr_nodes, admg_to_latent_variable_dag\n",
    "from y0.examples import figure_9b\n",
    "\n",
    "admg1 = figure_9b.graph.to_admg()\n",
    "lvm1 = admg_to_latent_variable_dag(admg1)\n",
    "\n",
    "admg2 = str_nodes_to_expr_nodes(figure_9b.graph).to_admg()\n",
    "lvm2 = admg_to_latent_variable_dag(admg2)"
   ]
  }
 ],
 "metadata": {
  "kernelspec": {
   "display_name": "anaconda3-2020.11",
   "language": "python",
   "name": "anaconda3-2020.11"
  },
  "language_info": {
   "codemirror_mode": {
    "name": "ipython",
    "version": 3
   },
   "file_extension": ".py",
   "mimetype": "text/x-python",
   "name": "python",
   "nbconvert_exporter": "python",
   "pygments_lexer": "ipython3",
   "version": "3.8.5"
  },
  "latex_envs": {
   "LaTeX_envs_menu_present": false,
   "autoclose": false,
   "autocomplete": false,
   "bibliofile": "biblio.bib",
   "cite_by": "apalike",
   "current_citInitial": 1,
   "eqLabelWithNumbers": true,
   "eqNumInitial": 1,
   "hotkeys": {
    "equation": "ctrl-q"
   },
   "labels_anchors": false,
   "latex_user_defs": false,
   "report_style_numbering": true,
   "user_envs_cfg": false
  },
  "toc": {
   "base_numbering": 1,
   "nav_menu": {},
   "number_sections": true,
   "sideBar": true,
   "skip_h1_title": false,
   "title_cell": "Table of Contents",
   "title_sidebar": "Contents",
   "toc_cell": true,
   "toc_position": {},
   "toc_section_display": true,
   "toc_window_display": true
  }
 },
 "nbformat": 4,
 "nbformat_minor": 4
}
